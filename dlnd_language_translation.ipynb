{
 "cells": [
  {
   "cell_type": "markdown",
   "metadata": {
    "collapsed": true
   },
   "source": [
    "# Language Translation\n",
    "In this project, you’re going to take a peek into the realm of neural network machine translation.  You’ll be training a sequence to sequence model on a dataset of English and French sentences that can translate new sentences from English to French.\n",
    "## Get the Data\n",
    "Since translating the whole language of English to French will take lots of time to train, we have provided you with a small portion of the English corpus."
   ]
  },
  {
   "cell_type": "code",
   "execution_count": 1,
   "metadata": {},
   "outputs": [],
   "source": [
    "\"\"\"\n",
    "DON'T MODIFY ANYTHING IN THIS CELL\n",
    "\"\"\"\n",
    "import helper\n",
    "import problem_unittests as tests\n",
    "\n",
    "source_path = 'data/small_vocab_en'\n",
    "target_path = 'data/small_vocab_fr'\n",
    "source_text = helper.load_data(source_path)\n",
    "target_text = helper.load_data(target_path)"
   ]
  },
  {
   "cell_type": "markdown",
   "metadata": {},
   "source": [
    "## Explore the Data\n",
    "Play around with view_sentence_range to view different parts of the data."
   ]
  },
  {
   "cell_type": "code",
   "execution_count": 2,
   "metadata": {},
   "outputs": [
    {
     "name": "stdout",
     "output_type": "stream",
     "text": [
      "Dataset Stats\n",
      "Roughly the number of unique words: 227\n",
      "Number of sentences: 137861\n",
      "Average number of words in a sentence: 13.225277634719028\n",
      "\n",
      "English sentences 0 to 10:\n",
      "new jersey is sometimes quiet during autumn , and it is snowy in april .\n",
      "the united states is usually chilly during july , and it is usually freezing in november .\n",
      "california is usually quiet during march , and it is usually hot in june .\n",
      "the united states is sometimes mild during june , and it is cold in september .\n",
      "your least liked fruit is the grape , but my least liked is the apple .\n",
      "his favorite fruit is the orange , but my favorite is the grape .\n",
      "paris is relaxing during december , but it is usually chilly in july .\n",
      "new jersey is busy during spring , and it is never hot in march .\n",
      "our least liked fruit is the lemon , but my least liked is the grape .\n",
      "the united states is sometimes busy during january , and it is sometimes warm in november .\n",
      "\n",
      "French sentences 0 to 10:\n",
      "new jersey est parfois calme pendant l' automne , et il est neigeux en avril .\n",
      "les états-unis est généralement froid en juillet , et il gèle habituellement en novembre .\n",
      "california est généralement calme en mars , et il est généralement chaud en juin .\n",
      "les états-unis est parfois légère en juin , et il fait froid en septembre .\n",
      "votre moins aimé fruit est le raisin , mais mon moins aimé est la pomme .\n",
      "son fruit préféré est l'orange , mais mon préféré est le raisin .\n",
      "paris est relaxant en décembre , mais il est généralement froid en juillet .\n",
      "new jersey est occupé au printemps , et il est jamais chaude en mars .\n",
      "notre fruit est moins aimé le citron , mais mon moins aimé est le raisin .\n",
      "les états-unis est parfois occupé en janvier , et il est parfois chaud en novembre .\n"
     ]
    }
   ],
   "source": [
    "view_sentence_range = (0, 10)\n",
    "\n",
    "\"\"\"\n",
    "DON'T MODIFY ANYTHING IN THIS CELL\n",
    "\"\"\"\n",
    "import numpy as np\n",
    "\n",
    "print('Dataset Stats')\n",
    "print('Roughly the number of unique words: {}'.format(len({word: None for word in source_text.split()})))\n",
    "\n",
    "sentences = source_text.split('\\n')\n",
    "word_counts = [len(sentence.split()) for sentence in sentences]\n",
    "print('Number of sentences: {}'.format(len(sentences)))\n",
    "print('Average number of words in a sentence: {}'.format(np.average(word_counts)))\n",
    "\n",
    "print()\n",
    "print('English sentences {} to {}:'.format(*view_sentence_range))\n",
    "print('\\n'.join(source_text.split('\\n')[view_sentence_range[0]:view_sentence_range[1]]))\n",
    "print()\n",
    "print('French sentences {} to {}:'.format(*view_sentence_range))\n",
    "print('\\n'.join(target_text.split('\\n')[view_sentence_range[0]:view_sentence_range[1]]))"
   ]
  },
  {
   "cell_type": "markdown",
   "metadata": {},
   "source": [
    "## Implement Preprocessing Function\n",
    "### Text to Word Ids\n",
    "As you did with other RNNs, you must turn the text into a number so the computer can understand it. In the function `text_to_ids()`, you'll turn `source_text` and `target_text` from words to ids.  However, you need to add the `<EOS>` word id at the end of `target_text`.  This will help the neural network predict when the sentence should end.\n",
    "\n",
    "You can get the `<EOS>` word id by doing:\n",
    "```python\n",
    "target_vocab_to_int['<EOS>']\n",
    "```\n",
    "You can get other word ids using `source_vocab_to_int` and `target_vocab_to_int`."
   ]
  },
  {
   "cell_type": "code",
   "execution_count": 3,
   "metadata": {},
   "outputs": [
    {
     "name": "stdout",
     "output_type": "stream",
     "text": [
      "Tests Passed\n"
     ]
    }
   ],
   "source": [
    "def text_to_ids(source_text, target_text, source_vocab_to_int, target_vocab_to_int):\n",
    "    \"\"\"\n",
    "    Convert source and target text to proper word ids\n",
    "    :param source_text: String that contains all the source text.\n",
    "    :param target_text: String that contains all the target text.\n",
    "    :param source_vocab_to_int: Dictionary to go from the source words to an id\n",
    "    :param target_vocab_to_int: Dictionary to go from the target words to an id\n",
    "    :return: A tuple of lists (source_id_text, target_id_text)\n",
    "    \"\"\"\n",
    "    # TODO: Implement Function\n",
    "    eos = source_vocab_to_int['<EOS>']\n",
    "    \n",
    "    source_sentences = [sentence for sentence in source_text.split('\\n')]\n",
    "    target_sentences = [sentence for sentence in target_text.split('\\n')]\n",
    "    \n",
    "    source_word_ids = [[source_vocab_to_int[word] for word in sentence.split()] for sentence in source_sentences]\n",
    "    target_word_ids = [[target_vocab_to_int[word] for word in sentence.split()] + [eos] for sentence in target_sentences]\n",
    "\n",
    "    return source_word_ids, target_word_ids\n",
    "\n",
    "\"\"\"\n",
    "DON'T MODIFY ANYTHING IN THIS CELL THAT IS BELOW THIS LINE\n",
    "\"\"\"\n",
    "tests.test_text_to_ids(text_to_ids)"
   ]
  },
  {
   "cell_type": "markdown",
   "metadata": {},
   "source": [
    "### Preprocess all the data and save it\n",
    "Running the code cell below will preprocess all the data and save it to file."
   ]
  },
  {
   "cell_type": "code",
   "execution_count": 4,
   "metadata": {},
   "outputs": [],
   "source": [
    "\"\"\"\n",
    "DON'T MODIFY ANYTHING IN THIS CELL\n",
    "\"\"\"\n",
    "helper.preprocess_and_save_data(source_path, target_path, text_to_ids)"
   ]
  },
  {
   "cell_type": "markdown",
   "metadata": {},
   "source": [
    "# Check Point\n",
    "This is your first checkpoint. If you ever decide to come back to this notebook or have to restart the notebook, you can start from here. The preprocessed data has been saved to disk."
   ]
  },
  {
   "cell_type": "code",
   "execution_count": 5,
   "metadata": {},
   "outputs": [],
   "source": [
    "\"\"\"\n",
    "DON'T MODIFY ANYTHING IN THIS CELL\n",
    "\"\"\"\n",
    "import numpy as np\n",
    "import helper\n",
    "import problem_unittests as tests\n",
    "\n",
    "(source_int_text, target_int_text), (source_vocab_to_int, target_vocab_to_int), _ = helper.load_preprocess()"
   ]
  },
  {
   "cell_type": "markdown",
   "metadata": {},
   "source": [
    "### Check the Version of TensorFlow and Access to GPU\n",
    "This will check to make sure you have the correct version of TensorFlow and access to a GPU"
   ]
  },
  {
   "cell_type": "code",
   "execution_count": 6,
   "metadata": {},
   "outputs": [
    {
     "name": "stdout",
     "output_type": "stream",
     "text": [
      "TensorFlow Version: 1.1.0\n",
      "Default GPU Device: /gpu:0\n"
     ]
    }
   ],
   "source": [
    "\"\"\"\n",
    "DON'T MODIFY ANYTHING IN THIS CELL\n",
    "\"\"\"\n",
    "from distutils.version import LooseVersion\n",
    "import warnings\n",
    "import tensorflow as tf\n",
    "from tensorflow.python.layers.core import Dense\n",
    "\n",
    "# Check TensorFlow Version\n",
    "assert LooseVersion(tf.__version__) >= LooseVersion('1.1'), 'Please use TensorFlow version 1.1 or newer'\n",
    "print('TensorFlow Version: {}'.format(tf.__version__))\n",
    "\n",
    "# Check for a GPU\n",
    "if not tf.test.gpu_device_name():\n",
    "    warnings.warn('No GPU found. Please use a GPU to train your neural network.')\n",
    "else:\n",
    "    print('Default GPU Device: {}'.format(tf.test.gpu_device_name()))"
   ]
  },
  {
   "cell_type": "markdown",
   "metadata": {},
   "source": [
    "## Build the Neural Network\n",
    "You'll build the components necessary to build a Sequence-to-Sequence model by implementing the following functions below:\n",
    "- `model_inputs`\n",
    "- `process_decoder_input`\n",
    "- `encoding_layer`\n",
    "- `decoding_layer_train`\n",
    "- `decoding_layer_infer`\n",
    "- `decoding_layer`\n",
    "- `seq2seq_model`\n",
    "\n",
    "### Input\n",
    "Implement the `model_inputs()` function to create TF Placeholders for the Neural Network. It should create the following placeholders:\n",
    "\n",
    "- Input text placeholder named \"input\" using the TF Placeholder name parameter with rank 2.\n",
    "- Targets placeholder with rank 2.\n",
    "- Learning rate placeholder with rank 0.\n",
    "- Keep probability placeholder named \"keep_prob\" using the TF Placeholder name parameter with rank 0.\n",
    "- Target sequence length placeholder named \"target_sequence_length\" with rank 1\n",
    "- Max target sequence length tensor named \"max_target_len\" getting its value from applying tf.reduce_max on the target_sequence_length placeholder. Rank 0.\n",
    "- Source sequence length placeholder named \"source_sequence_length\" with rank 1\n",
    "\n",
    "Return the placeholders in the following the tuple (input, targets, learning rate, keep probability, target sequence length, max target sequence length, source sequence length)"
   ]
  },
  {
   "cell_type": "code",
   "execution_count": 7,
   "metadata": {},
   "outputs": [
    {
     "name": "stdout",
     "output_type": "stream",
     "text": [
      "Tests Passed\n"
     ]
    }
   ],
   "source": [
    "def model_inputs():\n",
    "    \"\"\"\n",
    "    Create TF Placeholders for input, targets, learning rate, and lengths of source and target sequences.\n",
    "    :return: Tuple (input, targets, learning rate, keep probability, target sequence length,\n",
    "    max target sequence length, source sequence length)\n",
    "    \"\"\"\n",
    "    # TODO: Implement Function\n",
    "    input = tf.placeholder(tf.int32, [None, None], name='input')\n",
    "    targets = tf.placeholder(tf.int32, [None, None], name='targets')\n",
    "    learning_rate = tf.placeholder(tf.float32, None, name='learning_rate')\n",
    "    keep_probability = tf.placeholder(tf.float32, None, name='keep_prob')\n",
    "    target_sequence_length = tf.placeholder(tf.int32, [None], name='target_sequence_length')\n",
    "    max_target_sequence_length = tf.reduce_max(target_sequence_length)\n",
    "    source_sequence_length = tf.placeholder(tf.int32, [None], name='source_sequence_length')\n",
    "    \n",
    "    return input, targets, learning_rate, keep_probability, target_sequence_length, max_target_sequence_length, source_sequence_length\n",
    "\n",
    "\n",
    "\"\"\"\n",
    "DON'T MODIFY ANYTHING IN THIS CELL THAT IS BELOW THIS LINE\n",
    "\"\"\"\n",
    "tests.test_model_inputs(model_inputs)"
   ]
  },
  {
   "cell_type": "markdown",
   "metadata": {},
   "source": [
    "### Process Decoder Input\n",
    "Implement `process_decoder_input` by removing the last word id from each batch in `target_data` and concat the GO ID to the begining of each batch."
   ]
  },
  {
   "cell_type": "code",
   "execution_count": 8,
   "metadata": {},
   "outputs": [
    {
     "name": "stdout",
     "output_type": "stream",
     "text": [
      "Tests Passed\n"
     ]
    }
   ],
   "source": [
    "def process_decoder_input(target_data, target_vocab_to_int, batch_size):\n",
    "    \"\"\"\n",
    "    Preprocess target data for encoding\n",
    "    :param target_data: Target Placehoder\n",
    "    :param target_vocab_to_int: Dictionary to go from the target words to an id\n",
    "    :param batch_size: Batch Size\n",
    "    :return: Preprocessed target data\n",
    "    \"\"\"\n",
    "    # TODO: Implement Function\n",
    "    go_id = source_vocab_to_int['<GO>']\n",
    "    target_data = tf.concat([tf.fill([batch_size, 1], go_id), tf.strided_slice(target_data, [0, 0], [batch_size, -1], [1, 1])], 1)\n",
    "    \n",
    "    return target_data\n",
    "\n",
    "\"\"\"\n",
    "DON'T MODIFY ANYTHING IN THIS CELL THAT IS BELOW THIS LINE\n",
    "\"\"\"\n",
    "tests.test_process_encoding_input(process_decoder_input)"
   ]
  },
  {
   "cell_type": "markdown",
   "metadata": {},
   "source": [
    "### Encoding\n",
    "Implement `encoding_layer()` to create a Encoder RNN layer:\n",
    " * Embed the encoder input using [`tf.contrib.layers.embed_sequence`](https://www.tensorflow.org/api_docs/python/tf/contrib/layers/embed_sequence)\n",
    " * Construct a [stacked](https://github.com/tensorflow/tensorflow/blob/6947f65a374ebf29e74bb71e36fd82760056d82c/tensorflow/docs_src/tutorials/recurrent.md#stacking-multiple-lstms) [`tf.contrib.rnn.LSTMCell`](https://www.tensorflow.org/api_docs/python/tf/contrib/rnn/LSTMCell) wrapped in a [`tf.contrib.rnn.DropoutWrapper`](https://www.tensorflow.org/api_docs/python/tf/contrib/rnn/DropoutWrapper)\n",
    " * Pass cell and embedded input to [`tf.nn.dynamic_rnn()`](https://www.tensorflow.org/api_docs/python/tf/nn/dynamic_rnn)"
   ]
  },
  {
   "cell_type": "code",
   "execution_count": 9,
   "metadata": {
    "scrolled": false
   },
   "outputs": [
    {
     "name": "stdout",
     "output_type": "stream",
     "text": [
      "Tests Passed\n"
     ]
    }
   ],
   "source": [
    "from imp import reload\n",
    "reload(tests)\n",
    "\n",
    "def encoding_layer(rnn_inputs, rnn_size, num_layers, keep_prob, \n",
    "                   source_sequence_length, source_vocab_size, \n",
    "                   encoding_embedding_size):\n",
    "    \"\"\"\n",
    "    Create encoding layer\n",
    "    :param rnn_inputs: Inputs for the RNN\n",
    "    :param rnn_size: RNN Size\n",
    "    :param num_layers: Number of layers\n",
    "    :param keep_prob: Dropout keep probability\n",
    "    :param source_sequence_length: a list of the lengths of each sequence in the batch\n",
    "    :param source_vocab_size: vocabulary size of source data\n",
    "    :param encoding_embedding_size: embedding size of source data\n",
    "    :return: tuple (RNN output, RNN state)\n",
    "    \"\"\"\n",
    "    # TODO: Implement Function\n",
    "    embed_input = tf.contrib.layers.embed_sequence(rnn_inputs, source_vocab_size, encoding_embedding_size)\n",
    "    rnn_cell = tf.contrib.rnn.MultiRNNCell([create_cell_layer(rnn_size, keep_prob) for layer in range(num_layers)])\n",
    "    rnn_output, rnn_state = tf.nn.dynamic_rnn(rnn_cell, embed_input, sequence_length=source_sequence_length, dtype=tf.float32)\n",
    "    \n",
    "    return rnn_output, rnn_state\n",
    "\n",
    "def create_cell_layer(rnn_size, keep_prob):\n",
    "    lstm_cell = tf.contrib.rnn.LSTMCell(rnn_size)\n",
    "    dropout = tf.contrib.rnn.DropoutWrapper(lstm_cell, output_keep_prob=keep_prob)\n",
    "\n",
    "    return dropout\n",
    "\n",
    "\"\"\"\n",
    "DON'T MODIFY ANYTHING IN THIS CELL THAT IS BELOW THIS LINE\n",
    "\"\"\"\n",
    "tests.test_encoding_layer(encoding_layer)"
   ]
  },
  {
   "cell_type": "markdown",
   "metadata": {},
   "source": [
    "### Decoding - Training\n",
    "Create a training decoding layer:\n",
    "* Create a [`tf.contrib.seq2seq.TrainingHelper`](https://www.tensorflow.org/api_docs/python/tf/contrib/seq2seq/TrainingHelper) \n",
    "* Create a [`tf.contrib.seq2seq.BasicDecoder`](https://www.tensorflow.org/api_docs/python/tf/contrib/seq2seq/BasicDecoder)\n",
    "* Obtain the decoder outputs from [`tf.contrib.seq2seq.dynamic_decode`](https://www.tensorflow.org/api_docs/python/tf/contrib/seq2seq/dynamic_decode)"
   ]
  },
  {
   "cell_type": "code",
   "execution_count": 10,
   "metadata": {},
   "outputs": [
    {
     "name": "stdout",
     "output_type": "stream",
     "text": [
      "Tests Passed\n"
     ]
    }
   ],
   "source": [
    "\n",
    "def decoding_layer_train(encoder_state, dec_cell, dec_embed_input, \n",
    "                         target_sequence_length, max_summary_length, \n",
    "                         output_layer, keep_prob):\n",
    "    \"\"\"\n",
    "    Create a decoding layer for training\n",
    "    :param encoder_state: Encoder State\n",
    "    :param dec_cell: Decoder RNN Cell\n",
    "    :param dec_embed_input: Decoder embedded input\n",
    "    :param target_sequence_length: The lengths of each sequence in the target batch\n",
    "    :param max_summary_length: The length of the longest sequence in the batch\n",
    "    :param output_layer: Function to apply the output layer\n",
    "    :param keep_prob: Dropout keep probability\n",
    "    :return: BasicDecoderOutput containing training logits and sample_id\n",
    "    \"\"\"\n",
    "    # TODO: Implement Function\n",
    "    training_helper = tf.contrib.seq2seq.TrainingHelper(inputs=dec_embed_input, sequence_length=target_sequence_length)\n",
    "    basic_decoder = tf.contrib.seq2seq.BasicDecoder(dec_cell, training_helper, encoder_state, output_layer)\n",
    "    basic_decoder_output = tf.contrib.seq2seq.dynamic_decode(basic_decoder, maximum_iterations=max_summary_length)\n",
    "    \n",
    "    return basic_decoder_output[0]\n",
    "\n",
    "\n",
    "\n",
    "\"\"\"\n",
    "DON'T MODIFY ANYTHING IN THIS CELL THAT IS BELOW THIS LINE\n",
    "\"\"\"\n",
    "tests.test_decoding_layer_train(decoding_layer_train)"
   ]
  },
  {
   "cell_type": "markdown",
   "metadata": {},
   "source": [
    "### Decoding - Inference\n",
    "Create inference decoder:\n",
    "* Create a [`tf.contrib.seq2seq.GreedyEmbeddingHelper`](https://www.tensorflow.org/api_docs/python/tf/contrib/seq2seq/GreedyEmbeddingHelper)\n",
    "* Create a [`tf.contrib.seq2seq.BasicDecoder`](https://www.tensorflow.org/api_docs/python/tf/contrib/seq2seq/BasicDecoder)\n",
    "* Obtain the decoder outputs from [`tf.contrib.seq2seq.dynamic_decode`](https://www.tensorflow.org/api_docs/python/tf/contrib/seq2seq/dynamic_decode)"
   ]
  },
  {
   "cell_type": "code",
   "execution_count": 11,
   "metadata": {
    "scrolled": true
   },
   "outputs": [
    {
     "name": "stdout",
     "output_type": "stream",
     "text": [
      "Tests Passed\n"
     ]
    }
   ],
   "source": [
    "def decoding_layer_infer(encoder_state, dec_cell, dec_embeddings, start_of_sequence_id,\n",
    "                         end_of_sequence_id, max_target_sequence_length,\n",
    "                         vocab_size, output_layer, batch_size, keep_prob):\n",
    "    \"\"\"\n",
    "    Create a decoding layer for inference\n",
    "    :param encoder_state: Encoder state\n",
    "    :param dec_cell: Decoder RNN Cell\n",
    "    :param dec_embeddings: Decoder embeddings\n",
    "    :param start_of_sequence_id: GO ID\n",
    "    :param end_of_sequence_id: EOS Id\n",
    "    :param max_target_sequence_length: Maximum length of target sequences\n",
    "    :param vocab_size: Size of decoder/target vocabulary\n",
    "    :param decoding_scope: TenorFlow Variable Scope for decoding\n",
    "    :param output_layer: Function to apply the output layer\n",
    "    :param batch_size: Batch size\n",
    "    :param keep_prob: Dropout keep probability\n",
    "    :return: BasicDecoderOutput containing inference logits and sample_id\n",
    "    \"\"\"\n",
    "    # TODO: Implement Function\n",
    "    start_tokens = tf.tile(tf.constant([start_of_sequence_id], dtype=tf.int32), [batch_size], name='start_tokens')\n",
    "    \n",
    "    embedding_helper = tf.contrib.seq2seq.GreedyEmbeddingHelper(dec_embeddings, start_tokens, end_of_sequence_id)\n",
    "    basic_decoder = tf.contrib.seq2seq.BasicDecoder(dec_cell, embedding_helper, encoder_state, output_layer)\n",
    "    basic_decoder_output = tf.contrib.seq2seq.dynamic_decode(basic_decoder, maximum_iterations=max_target_sequence_length)\n",
    "\n",
    "    return basic_decoder_output[0]\n",
    "\n",
    "\n",
    "\n",
    "\"\"\"\n",
    "DON'T MODIFY ANYTHING IN THIS CELL THAT IS BELOW THIS LINE\n",
    "\"\"\"\n",
    "tests.test_decoding_layer_infer(decoding_layer_infer)"
   ]
  },
  {
   "cell_type": "markdown",
   "metadata": {},
   "source": [
    "### Build the Decoding Layer\n",
    "Implement `decoding_layer()` to create a Decoder RNN layer.\n",
    "\n",
    "* Embed the target sequences\n",
    "* Construct the decoder LSTM cell (just like you constructed the encoder cell above)\n",
    "* Create an output layer to map the outputs of the decoder to the elements of our vocabulary\n",
    "* Use the your `decoding_layer_train(encoder_state, dec_cell, dec_embed_input, target_sequence_length, max_target_sequence_length, output_layer, keep_prob)` function to get the training logits.\n",
    "* Use your `decoding_layer_infer(encoder_state, dec_cell, dec_embeddings, start_of_sequence_id, end_of_sequence_id, max_target_sequence_length, vocab_size, output_layer, batch_size, keep_prob)` function to get the inference logits.\n",
    "\n",
    "Note: You'll need to use [tf.variable_scope](https://www.tensorflow.org/api_docs/python/tf/variable_scope) to share variables between training and inference."
   ]
  },
  {
   "cell_type": "code",
   "execution_count": 12,
   "metadata": {},
   "outputs": [
    {
     "name": "stdout",
     "output_type": "stream",
     "text": [
      "Tests Passed\n"
     ]
    }
   ],
   "source": [
    "def decoding_layer(dec_input, encoder_state,\n",
    "                   target_sequence_length, max_target_sequence_length,\n",
    "                   rnn_size,\n",
    "                   num_layers, target_vocab_to_int, target_vocab_size,\n",
    "                   batch_size, keep_prob, decoding_embedding_size):\n",
    "    \"\"\"\n",
    "    Create decoding layer\n",
    "    :param dec_input: Decoder input\n",
    "    :param encoder_state: Encoder state\n",
    "    :param target_sequence_length: The lengths of each sequence in the target batch\n",
    "    :param max_target_sequence_length: Maximum length of target sequences\n",
    "    :param rnn_size: RNN Size\n",
    "    :param num_layers: Number of layers\n",
    "    :param target_vocab_to_int: Dictionary to go from the target words to an id\n",
    "    :param target_vocab_size: Size of target vocabulary\n",
    "    :param batch_size: The size of the batch\n",
    "    :param keep_prob: Dropout keep probability\n",
    "    :param decoding_embedding_size: Decoding embedding size\n",
    "    :return: Tuple of (Training BasicDecoderOutput, Inference BasicDecoderOutput)\n",
    "    \"\"\"\n",
    "    # TODO: Implement Function\n",
    "    dec_embeddings = tf.Variable(tf.random_uniform([target_vocab_size, decoding_embedding_size]))\n",
    "    dec_embed_input = tf.nn.embedding_lookup(dec_embeddings, dec_input)\n",
    "    \n",
    "    dec_cell = tf.contrib.rnn.MultiRNNCell([create_cell_layer(rnn_size, keep_prob) for _ in range(num_layers)])\n",
    "    output_layer = Dense(target_vocab_size)\n",
    "    \n",
    "    with tf.variable_scope(\"scope\"):\n",
    "        training_logits = decoding_layer_train(encoder_state, dec_cell, dec_embed_input, target_sequence_length, max_target_sequence_length, output_layer, keep_prob)\n",
    "    \n",
    "    with tf.variable_scope(\"scope\", reuse=True):\n",
    "        inference_logits = decoding_layer_infer(encoder_state, dec_cell, dec_embeddings, target_vocab_to_int['<GO>'], target_vocab_to_int['<EOS>'], max_target_sequence_length, target_vocab_size, output_layer, batch_size, keep_prob)\n",
    "    \n",
    "    return training_logits, inference_logits\n",
    "\n",
    "def create_cell_layer(rnn_size, keep_prob):\n",
    "    lstm_cell = tf.contrib.rnn.LSTMCell(rnn_size)\n",
    "    dropout = tf.contrib.rnn.DropoutWrapper(lstm_cell, output_keep_prob=keep_prob)\n",
    "\n",
    "    return dropout\n",
    "\n",
    "\n",
    "\n",
    "\"\"\"\n",
    "DON'T MODIFY ANYTHING IN THIS CELL THAT IS BELOW THIS LINE\n",
    "\"\"\"\n",
    "tests.test_decoding_layer(decoding_layer)"
   ]
  },
  {
   "cell_type": "markdown",
   "metadata": {},
   "source": [
    "### Build the Neural Network\n",
    "Apply the functions you implemented above to:\n",
    "\n",
    "- Encode the input using your `encoding_layer(rnn_inputs, rnn_size, num_layers, keep_prob,  source_sequence_length, source_vocab_size, encoding_embedding_size)`.\n",
    "- Process target data using your `process_decoder_input(target_data, target_vocab_to_int, batch_size)` function.\n",
    "- Decode the encoded input using your `decoding_layer(dec_input, enc_state, target_sequence_length, max_target_sentence_length, rnn_size, num_layers, target_vocab_to_int, target_vocab_size, batch_size, keep_prob, dec_embedding_size)` function."
   ]
  },
  {
   "cell_type": "code",
   "execution_count": 13,
   "metadata": {},
   "outputs": [
    {
     "name": "stdout",
     "output_type": "stream",
     "text": [
      "Tests Passed\n"
     ]
    }
   ],
   "source": [
    "def seq2seq_model(input_data, target_data, keep_prob, batch_size,\n",
    "                  source_sequence_length, target_sequence_length,\n",
    "                  max_target_sentence_length,\n",
    "                  source_vocab_size, target_vocab_size,\n",
    "                  enc_embedding_size, dec_embedding_size,\n",
    "                  rnn_size, num_layers, target_vocab_to_int):\n",
    "    \"\"\"\n",
    "    Build the Sequence-to-Sequence part of the neural network\n",
    "    :param input_data: Input placeholder\n",
    "    :param target_data: Target placeholder\n",
    "    :param keep_prob: Dropout keep probability placeholder\n",
    "    :param batch_size: Batch Size\n",
    "    :param source_sequence_length: Sequence Lengths of source sequences in the batch\n",
    "    :param target_sequence_length: Sequence Lengths of target sequences in the batch\n",
    "    :param source_vocab_size: Source vocabulary size\n",
    "    :param target_vocab_size: Target vocabulary size\n",
    "    :param enc_embedding_size: Decoder embedding size\n",
    "    :param dec_embedding_size: Encoder embedding size\n",
    "    :param rnn_size: RNN Size\n",
    "    :param num_layers: Number of layers\n",
    "    :param target_vocab_to_int: Dictionary to go from the target words to an id\n",
    "    :return: Tuple of (Training BasicDecoderOutput, Inference BasicDecoderOutput)\n",
    "    \"\"\"\n",
    "    # TODO: Implement Function\n",
    "    enc_output, enc_state = encoding_layer(input_data, rnn_size, num_layers, keep_prob, source_sequence_length, source_vocab_size, enc_embedding_size)\n",
    "    dec_input = process_decoder_input(target_data, target_vocab_to_int, batch_size)\n",
    "    training_output, inference_output = decoding_layer(dec_input, enc_state, target_sequence_length, max_target_sentence_length, rnn_size, num_layers, target_vocab_to_int, target_vocab_size, batch_size, keep_prob, dec_embedding_size)\n",
    "    \n",
    "    return training_output, inference_output\n",
    "\n",
    "\n",
    "\"\"\"\n",
    "DON'T MODIFY ANYTHING IN THIS CELL THAT IS BELOW THIS LINE\n",
    "\"\"\"\n",
    "tests.test_seq2seq_model(seq2seq_model)"
   ]
  },
  {
   "cell_type": "markdown",
   "metadata": {},
   "source": [
    "## Neural Network Training\n",
    "### Hyperparameters\n",
    "Tune the following parameters:\n",
    "\n",
    "- Set `epochs` to the number of epochs.\n",
    "- Set `batch_size` to the batch size.\n",
    "- Set `rnn_size` to the size of the RNNs.\n",
    "- Set `num_layers` to the number of layers.\n",
    "- Set `encoding_embedding_size` to the size of the embedding for the encoder.\n",
    "- Set `decoding_embedding_size` to the size of the embedding for the decoder.\n",
    "- Set `learning_rate` to the learning rate.\n",
    "- Set `keep_probability` to the Dropout keep probability\n",
    "- Set `display_step` to state how many steps between each debug output statement"
   ]
  },
  {
   "cell_type": "code",
   "execution_count": 14,
   "metadata": {},
   "outputs": [],
   "source": [
    "# Number of Epochs\n",
    "epochs = 15\n",
    "# Batch Size\n",
    "batch_size = 1536\n",
    "# RNN Size\n",
    "rnn_size = 512\n",
    "# Number of Layers\n",
    "num_layers = 2\n",
    "# Embedding Size\n",
    "encoding_embedding_size = 256\n",
    "decoding_embedding_size = 256\n",
    "# Learning Rate\n",
    "learning_rate = 0.001\n",
    "# Dropout Keep Probability\n",
    "keep_probability = 0.6\n",
    "display_step = 10"
   ]
  },
  {
   "cell_type": "markdown",
   "metadata": {},
   "source": [
    "### Build the Graph\n",
    "Build the graph using the neural network you implemented."
   ]
  },
  {
   "cell_type": "code",
   "execution_count": 15,
   "metadata": {},
   "outputs": [],
   "source": [
    "\"\"\"\n",
    "DON'T MODIFY ANYTHING IN THIS CELL\n",
    "\"\"\"\n",
    "save_path = 'checkpoints/dev'\n",
    "(source_int_text, target_int_text), (source_vocab_to_int, target_vocab_to_int), _ = helper.load_preprocess()\n",
    "max_target_sentence_length = max([len(sentence) for sentence in source_int_text])\n",
    "\n",
    "train_graph = tf.Graph()\n",
    "with train_graph.as_default():\n",
    "    input_data, targets, lr, keep_prob, target_sequence_length, max_target_sequence_length, source_sequence_length = model_inputs()\n",
    "\n",
    "    #sequence_length = tf.placeholder_with_default(max_target_sentence_length, None, name='sequence_length')\n",
    "    input_shape = tf.shape(input_data)\n",
    "\n",
    "    train_logits, inference_logits = seq2seq_model(tf.reverse(input_data, [-1]),\n",
    "                                                   targets,\n",
    "                                                   keep_prob,\n",
    "                                                   batch_size,\n",
    "                                                   source_sequence_length,\n",
    "                                                   target_sequence_length,\n",
    "                                                   max_target_sequence_length,\n",
    "                                                   len(source_vocab_to_int),\n",
    "                                                   len(target_vocab_to_int),\n",
    "                                                   encoding_embedding_size,\n",
    "                                                   decoding_embedding_size,\n",
    "                                                   rnn_size,\n",
    "                                                   num_layers,\n",
    "                                                   target_vocab_to_int)\n",
    "\n",
    "\n",
    "    training_logits = tf.identity(train_logits.rnn_output, name='logits')\n",
    "    inference_logits = tf.identity(inference_logits.sample_id, name='predictions')\n",
    "\n",
    "    masks = tf.sequence_mask(target_sequence_length, max_target_sequence_length, dtype=tf.float32, name='masks')\n",
    "\n",
    "    with tf.name_scope(\"optimization\"):\n",
    "        # Loss function\n",
    "        cost = tf.contrib.seq2seq.sequence_loss(\n",
    "            training_logits,\n",
    "            targets,\n",
    "            masks)\n",
    "\n",
    "        # Optimizer\n",
    "        optimizer = tf.train.AdamOptimizer(lr)\n",
    "\n",
    "        # Gradient Clipping\n",
    "        gradients = optimizer.compute_gradients(cost)\n",
    "        capped_gradients = [(tf.clip_by_value(grad, -1., 1.), var) for grad, var in gradients if grad is not None]\n",
    "        train_op = optimizer.apply_gradients(capped_gradients)\n"
   ]
  },
  {
   "cell_type": "markdown",
   "metadata": {},
   "source": [
    "Batch and pad the source and target sequences"
   ]
  },
  {
   "cell_type": "code",
   "execution_count": 16,
   "metadata": {},
   "outputs": [],
   "source": [
    "\"\"\"\n",
    "DON'T MODIFY ANYTHING IN THIS CELL\n",
    "\"\"\"\n",
    "def pad_sentence_batch(sentence_batch, pad_int):\n",
    "    \"\"\"Pad sentences with <PAD> so that each sentence of a batch has the same length\"\"\"\n",
    "    max_sentence = max([len(sentence) for sentence in sentence_batch])\n",
    "    return [sentence + [pad_int] * (max_sentence - len(sentence)) for sentence in sentence_batch]\n",
    "\n",
    "\n",
    "def get_batches(sources, targets, batch_size, source_pad_int, target_pad_int):\n",
    "    \"\"\"Batch targets, sources, and the lengths of their sentences together\"\"\"\n",
    "    for batch_i in range(0, len(sources)//batch_size):\n",
    "        start_i = batch_i * batch_size\n",
    "\n",
    "        # Slice the right amount for the batch\n",
    "        sources_batch = sources[start_i:start_i + batch_size]\n",
    "        targets_batch = targets[start_i:start_i + batch_size]\n",
    "\n",
    "        # Pad\n",
    "        pad_sources_batch = np.array(pad_sentence_batch(sources_batch, source_pad_int))\n",
    "        pad_targets_batch = np.array(pad_sentence_batch(targets_batch, target_pad_int))\n",
    "\n",
    "        # Need the lengths for the _lengths parameters\n",
    "        pad_targets_lengths = []\n",
    "        for target in pad_targets_batch:\n",
    "            pad_targets_lengths.append(len(target))\n",
    "\n",
    "        pad_source_lengths = []\n",
    "        for source in pad_sources_batch:\n",
    "            pad_source_lengths.append(len(source))\n",
    "\n",
    "        yield pad_sources_batch, pad_targets_batch, pad_source_lengths, pad_targets_lengths\n"
   ]
  },
  {
   "cell_type": "markdown",
   "metadata": {},
   "source": [
    "### Train\n",
    "Train the neural network on the preprocessed data. If you have a hard time getting a good loss, check the forms to see if anyone is having the same problem."
   ]
  },
  {
   "cell_type": "code",
   "execution_count": 17,
   "metadata": {
    "scrolled": true
   },
   "outputs": [
    {
     "name": "stdout",
     "output_type": "stream",
     "text": [
      "Epoch   0 Batch   10/89 - Train Accuracy: 0.3392, Validation Accuracy: 0.3707, Loss: 3.2989\n",
      "Epoch   0 Batch   20/89 - Train Accuracy: 0.4404, Validation Accuracy: 0.4420, Loss: 2.6714\n",
      "Epoch   0 Batch   30/89 - Train Accuracy: 0.4673, Validation Accuracy: 0.4692, Loss: 2.4022\n",
      "Epoch   0 Batch   40/89 - Train Accuracy: 0.4367, Validation Accuracy: 0.4639, Loss: 2.3311\n",
      "Epoch   0 Batch   50/89 - Train Accuracy: 0.4593, Validation Accuracy: 0.4891, Loss: 2.1598\n",
      "Epoch   0 Batch   60/89 - Train Accuracy: 0.5307, Validation Accuracy: 0.4881, Loss: 1.8715\n",
      "Epoch   0 Batch   70/89 - Train Accuracy: 0.4776, Validation Accuracy: 0.4921, Loss: 1.8337\n",
      "Epoch   0 Batch   80/89 - Train Accuracy: 0.4785, Validation Accuracy: 0.5013, Loss: 1.6785\n",
      "Epoch   1 Batch   10/89 - Train Accuracy: 0.4172, Validation Accuracy: 0.4432, Loss: 1.4649\n",
      "Epoch   1 Batch   20/89 - Train Accuracy: 0.4780, Validation Accuracy: 0.4781, Loss: 1.3050\n",
      "Epoch   1 Batch   30/89 - Train Accuracy: 0.5125, Validation Accuracy: 0.5165, Loss: 1.2134\n",
      "Epoch   1 Batch   40/89 - Train Accuracy: 0.4737, Validation Accuracy: 0.4990, Loss: 1.1518\n",
      "Epoch   1 Batch   50/89 - Train Accuracy: 0.5149, Validation Accuracy: 0.5370, Loss: 1.0739\n",
      "Epoch   1 Batch   60/89 - Train Accuracy: 0.5780, Validation Accuracy: 0.5346, Loss: 0.8824\n",
      "Epoch   1 Batch   70/89 - Train Accuracy: 0.5358, Validation Accuracy: 0.5435, Loss: 0.9387\n",
      "Epoch   1 Batch   80/89 - Train Accuracy: 0.5296, Validation Accuracy: 0.5450, Loss: 0.8853\n",
      "Epoch   2 Batch   10/89 - Train Accuracy: 0.5276, Validation Accuracy: 0.5440, Loss: 0.8137\n",
      "Epoch   2 Batch   20/89 - Train Accuracy: 0.5452, Validation Accuracy: 0.5482, Loss: 0.7608\n",
      "Epoch   2 Batch   30/89 - Train Accuracy: 0.5776, Validation Accuracy: 0.5724, Loss: 0.7381\n",
      "Epoch   2 Batch   40/89 - Train Accuracy: 0.5649, Validation Accuracy: 0.5820, Loss: 0.7370\n",
      "Epoch   2 Batch   50/89 - Train Accuracy: 0.5701, Validation Accuracy: 0.5850, Loss: 0.7149\n",
      "Epoch   2 Batch   60/89 - Train Accuracy: 0.6325, Validation Accuracy: 0.5885, Loss: 0.6161\n",
      "Epoch   2 Batch   70/89 - Train Accuracy: 0.5844, Validation Accuracy: 0.5917, Loss: 0.6960\n",
      "Epoch   2 Batch   80/89 - Train Accuracy: 0.5924, Validation Accuracy: 0.6048, Loss: 0.6723\n",
      "Epoch   3 Batch   10/89 - Train Accuracy: 0.6021, Validation Accuracy: 0.6183, Loss: 0.6376\n",
      "Epoch   3 Batch   20/89 - Train Accuracy: 0.6154, Validation Accuracy: 0.6230, Loss: 0.6025\n",
      "Epoch   3 Batch   30/89 - Train Accuracy: 0.6268, Validation Accuracy: 0.6259, Loss: 0.5849\n",
      "Epoch   3 Batch   40/89 - Train Accuracy: 0.6111, Validation Accuracy: 0.6227, Loss: 0.5922\n",
      "Epoch   3 Batch   50/89 - Train Accuracy: 0.6079, Validation Accuracy: 0.6227, Loss: 0.6106\n",
      "Epoch   3 Batch   60/89 - Train Accuracy: 0.6758, Validation Accuracy: 0.6370, Loss: 0.5254\n",
      "Epoch   3 Batch   70/89 - Train Accuracy: 0.6386, Validation Accuracy: 0.6483, Loss: 0.5832\n",
      "Epoch   3 Batch   80/89 - Train Accuracy: 0.6271, Validation Accuracy: 0.6462, Loss: 0.5696\n",
      "Epoch   4 Batch   10/89 - Train Accuracy: 0.6476, Validation Accuracy: 0.6609, Loss: 0.5405\n",
      "Epoch   4 Batch   20/89 - Train Accuracy: 0.6515, Validation Accuracy: 0.6552, Loss: 0.5161\n",
      "Epoch   4 Batch   30/89 - Train Accuracy: 0.6618, Validation Accuracy: 0.6607, Loss: 0.5101\n",
      "Epoch   4 Batch   40/89 - Train Accuracy: 0.6424, Validation Accuracy: 0.6603, Loss: 0.5265\n",
      "Epoch   4 Batch   50/89 - Train Accuracy: 0.6433, Validation Accuracy: 0.6571, Loss: 0.5225\n",
      "Epoch   4 Batch   60/89 - Train Accuracy: 0.7026, Validation Accuracy: 0.6623, Loss: 0.4551\n",
      "Epoch   4 Batch   70/89 - Train Accuracy: 0.6676, Validation Accuracy: 0.6723, Loss: 0.4995\n",
      "Epoch   4 Batch   80/89 - Train Accuracy: 0.6574, Validation Accuracy: 0.6735, Loss: 0.4933\n",
      "Epoch   5 Batch   10/89 - Train Accuracy: 0.6692, Validation Accuracy: 0.6818, Loss: 0.4742\n",
      "Epoch   5 Batch   20/89 - Train Accuracy: 0.6758, Validation Accuracy: 0.6845, Loss: 0.4481\n",
      "Epoch   5 Batch   30/89 - Train Accuracy: 0.6863, Validation Accuracy: 0.6858, Loss: 0.4437\n",
      "Epoch   5 Batch   40/89 - Train Accuracy: 0.6742, Validation Accuracy: 0.6911, Loss: 0.4483\n",
      "Epoch   5 Batch   50/89 - Train Accuracy: 0.6811, Validation Accuracy: 0.6927, Loss: 0.4442\n",
      "Epoch   5 Batch   60/89 - Train Accuracy: 0.7221, Validation Accuracy: 0.6863, Loss: 0.4095\n",
      "Epoch   5 Batch   70/89 - Train Accuracy: 0.6911, Validation Accuracy: 0.6992, Loss: 0.4386\n",
      "Epoch   5 Batch   80/89 - Train Accuracy: 0.6829, Validation Accuracy: 0.6978, Loss: 0.4212\n",
      "Epoch   6 Batch   10/89 - Train Accuracy: 0.7022, Validation Accuracy: 0.7068, Loss: 0.3953\n",
      "Epoch   6 Batch   20/89 - Train Accuracy: 0.7169, Validation Accuracy: 0.7167, Loss: 0.3696\n",
      "Epoch   6 Batch   30/89 - Train Accuracy: 0.7140, Validation Accuracy: 0.7122, Loss: 0.3901\n",
      "Epoch   6 Batch   40/89 - Train Accuracy: 0.7164, Validation Accuracy: 0.7178, Loss: 0.3636\n",
      "Epoch   6 Batch   50/89 - Train Accuracy: 0.7232, Validation Accuracy: 0.7242, Loss: 0.3585\n",
      "Epoch   6 Batch   60/89 - Train Accuracy: 0.7629, Validation Accuracy: 0.7331, Loss: 0.2992\n",
      "Epoch   6 Batch   70/89 - Train Accuracy: 0.7285, Validation Accuracy: 0.7294, Loss: 0.3290\n",
      "Epoch   6 Batch   80/89 - Train Accuracy: 0.7300, Validation Accuracy: 0.7486, Loss: 0.3135\n",
      "Epoch   7 Batch   10/89 - Train Accuracy: 0.7441, Validation Accuracy: 0.7499, Loss: 0.2937\n",
      "Epoch   7 Batch   20/89 - Train Accuracy: 0.7725, Validation Accuracy: 0.7573, Loss: 0.2686\n",
      "Epoch   7 Batch   30/89 - Train Accuracy: 0.7729, Validation Accuracy: 0.7696, Loss: 0.2582\n",
      "Epoch   7 Batch   40/89 - Train Accuracy: 0.7780, Validation Accuracy: 0.7796, Loss: 0.2509\n",
      "Epoch   7 Batch   50/89 - Train Accuracy: 0.8038, Validation Accuracy: 0.7991, Loss: 0.2403\n",
      "Epoch   7 Batch   60/89 - Train Accuracy: 0.8175, Validation Accuracy: 0.7961, Loss: 0.2187\n",
      "Epoch   7 Batch   70/89 - Train Accuracy: 0.8008, Validation Accuracy: 0.8143, Loss: 0.2332\n",
      "Epoch   7 Batch   80/89 - Train Accuracy: 0.8370, Validation Accuracy: 0.8313, Loss: 0.2121\n",
      "Epoch   8 Batch   10/89 - Train Accuracy: 0.7416, Validation Accuracy: 0.7561, Loss: 0.3084\n",
      "Epoch   8 Batch   20/89 - Train Accuracy: 0.8111, Validation Accuracy: 0.7985, Loss: 0.2099\n",
      "Epoch   8 Batch   30/89 - Train Accuracy: 0.8443, Validation Accuracy: 0.8419, Loss: 0.1876\n",
      "Epoch   8 Batch   40/89 - Train Accuracy: 0.8572, Validation Accuracy: 0.8579, Loss: 0.1762\n",
      "Epoch   8 Batch   50/89 - Train Accuracy: 0.8712, Validation Accuracy: 0.8707, Loss: 0.1662\n",
      "Epoch   8 Batch   60/89 - Train Accuracy: 0.8832, Validation Accuracy: 0.8716, Loss: 0.1387\n",
      "Epoch   8 Batch   70/89 - Train Accuracy: 0.8692, Validation Accuracy: 0.8783, Loss: 0.1545\n",
      "Epoch   8 Batch   80/89 - Train Accuracy: 0.8850, Validation Accuracy: 0.8806, Loss: 0.1450\n",
      "Epoch   9 Batch   10/89 - Train Accuracy: 0.8741, Validation Accuracy: 0.8868, Loss: 0.1342\n",
      "Epoch   9 Batch   20/89 - Train Accuracy: 0.8970, Validation Accuracy: 0.8923, Loss: 0.1235\n",
      "Epoch   9 Batch   30/89 - Train Accuracy: 0.8912, Validation Accuracy: 0.8901, Loss: 0.1164\n",
      "Epoch   9 Batch   40/89 - Train Accuracy: 0.9006, Validation Accuracy: 0.8996, Loss: 0.1114\n",
      "Epoch   9 Batch   50/89 - Train Accuracy: 0.9010, Validation Accuracy: 0.9036, Loss: 0.1104\n",
      "Epoch   9 Batch   60/89 - Train Accuracy: 0.9159, Validation Accuracy: 0.8996, Loss: 0.0907\n",
      "Epoch   9 Batch   70/89 - Train Accuracy: 0.8984, Validation Accuracy: 0.9082, Loss: 0.1025\n",
      "Epoch   9 Batch   80/89 - Train Accuracy: 0.9148, Validation Accuracy: 0.9067, Loss: 0.0904\n",
      "Epoch  10 Batch   10/89 - Train Accuracy: 0.9038, Validation Accuracy: 0.9132, Loss: 0.0825\n",
      "Epoch  10 Batch   20/89 - Train Accuracy: 0.9168, Validation Accuracy: 0.9181, Loss: 0.0804\n",
      "Epoch  10 Batch   30/89 - Train Accuracy: 0.9176, Validation Accuracy: 0.9103, Loss: 0.0774\n",
      "Epoch  10 Batch   40/89 - Train Accuracy: 0.9249, Validation Accuracy: 0.9187, Loss: 0.0758\n",
      "Epoch  10 Batch   50/89 - Train Accuracy: 0.8529, Validation Accuracy: 0.8509, Loss: 0.1481\n",
      "Epoch  10 Batch   60/89 - Train Accuracy: 0.8751, Validation Accuracy: 0.8564, Loss: 0.1196\n",
      "Epoch  10 Batch   70/89 - Train Accuracy: 0.9006, Validation Accuracy: 0.9023, Loss: 0.1084\n",
      "Epoch  10 Batch   80/89 - Train Accuracy: 0.9148, Validation Accuracy: 0.9105, Loss: 0.0840\n",
      "Epoch  11 Batch   10/89 - Train Accuracy: 0.9128, Validation Accuracy: 0.9248, Loss: 0.0697\n",
      "Epoch  11 Batch   20/89 - Train Accuracy: 0.9225, Validation Accuracy: 0.9236, Loss: 0.0671\n"
     ]
    },
    {
     "name": "stdout",
     "output_type": "stream",
     "text": [
      "Epoch  11 Batch   30/89 - Train Accuracy: 0.9276, Validation Accuracy: 0.9246, Loss: 0.0658\n",
      "Epoch  11 Batch   40/89 - Train Accuracy: 0.9334, Validation Accuracy: 0.9284, Loss: 0.0588\n",
      "Epoch  11 Batch   50/89 - Train Accuracy: 0.9283, Validation Accuracy: 0.9277, Loss: 0.0611\n",
      "Epoch  11 Batch   60/89 - Train Accuracy: 0.9378, Validation Accuracy: 0.9295, Loss: 0.0501\n",
      "Epoch  11 Batch   70/89 - Train Accuracy: 0.9302, Validation Accuracy: 0.9339, Loss: 0.0619\n",
      "Epoch  11 Batch   80/89 - Train Accuracy: 0.9340, Validation Accuracy: 0.9321, Loss: 0.0550\n",
      "Epoch  12 Batch   10/89 - Train Accuracy: 0.9311, Validation Accuracy: 0.9360, Loss: 0.0510\n",
      "Epoch  12 Batch   20/89 - Train Accuracy: 0.9350, Validation Accuracy: 0.9379, Loss: 0.0531\n",
      "Epoch  12 Batch   30/89 - Train Accuracy: 0.9450, Validation Accuracy: 0.9381, Loss: 0.0512\n",
      "Epoch  12 Batch   40/89 - Train Accuracy: 0.9437, Validation Accuracy: 0.9388, Loss: 0.0485\n",
      "Epoch  12 Batch   50/89 - Train Accuracy: 0.9413, Validation Accuracy: 0.9403, Loss: 0.0495\n",
      "Epoch  12 Batch   60/89 - Train Accuracy: 0.9463, Validation Accuracy: 0.9394, Loss: 0.0413\n",
      "Epoch  12 Batch   70/89 - Train Accuracy: 0.9379, Validation Accuracy: 0.9418, Loss: 0.0518\n",
      "Epoch  12 Batch   80/89 - Train Accuracy: 0.9393, Validation Accuracy: 0.9413, Loss: 0.0473\n",
      "Epoch  13 Batch   10/89 - Train Accuracy: 0.9374, Validation Accuracy: 0.9454, Loss: 0.0446\n",
      "Epoch  13 Batch   20/89 - Train Accuracy: 0.9407, Validation Accuracy: 0.9428, Loss: 0.0453\n",
      "Epoch  13 Batch   30/89 - Train Accuracy: 0.9473, Validation Accuracy: 0.9438, Loss: 0.0455\n",
      "Epoch  13 Batch   40/89 - Train Accuracy: 0.9469, Validation Accuracy: 0.9406, Loss: 0.0422\n",
      "Epoch  13 Batch   50/89 - Train Accuracy: 0.9451, Validation Accuracy: 0.9505, Loss: 0.0436\n",
      "Epoch  13 Batch   60/89 - Train Accuracy: 0.9562, Validation Accuracy: 0.9464, Loss: 0.0358\n",
      "Epoch  13 Batch   70/89 - Train Accuracy: 0.9413, Validation Accuracy: 0.9511, Loss: 0.0448\n",
      "Epoch  13 Batch   80/89 - Train Accuracy: 0.9465, Validation Accuracy: 0.9510, Loss: 0.0397\n",
      "Epoch  14 Batch   10/89 - Train Accuracy: 0.9492, Validation Accuracy: 0.9474, Loss: 0.0381\n",
      "Epoch  14 Batch   20/89 - Train Accuracy: 0.9447, Validation Accuracy: 0.9505, Loss: 0.0403\n",
      "Epoch  14 Batch   30/89 - Train Accuracy: 0.9559, Validation Accuracy: 0.9530, Loss: 0.0391\n",
      "Epoch  14 Batch   40/89 - Train Accuracy: 0.9558, Validation Accuracy: 0.9529, Loss: 0.0378\n",
      "Epoch  14 Batch   50/89 - Train Accuracy: 0.9499, Validation Accuracy: 0.9526, Loss: 0.0385\n",
      "Epoch  14 Batch   60/89 - Train Accuracy: 0.9588, Validation Accuracy: 0.9556, Loss: 0.0318\n",
      "Epoch  14 Batch   70/89 - Train Accuracy: 0.9501, Validation Accuracy: 0.9546, Loss: 0.0395\n",
      "Epoch  14 Batch   80/89 - Train Accuracy: 0.9524, Validation Accuracy: 0.9568, Loss: 0.0355\n",
      "Model Trained and Saved\n"
     ]
    }
   ],
   "source": [
    "\"\"\"\n",
    "DON'T MODIFY ANYTHING IN THIS CELL\n",
    "\"\"\"\n",
    "def get_accuracy(target, logits):\n",
    "    \"\"\"\n",
    "    Calculate accuracy\n",
    "    \"\"\"\n",
    "    max_seq = max(target.shape[1], logits.shape[1])\n",
    "    if max_seq - target.shape[1]:\n",
    "        target = np.pad(\n",
    "            target,\n",
    "            [(0,0),(0,max_seq - target.shape[1])],\n",
    "            'constant')\n",
    "    if max_seq - logits.shape[1]:\n",
    "        logits = np.pad(\n",
    "            logits,\n",
    "            [(0,0),(0,max_seq - logits.shape[1])],\n",
    "            'constant')\n",
    "\n",
    "    return np.mean(np.equal(target, logits))\n",
    "\n",
    "# Split data to training and validation sets\n",
    "train_source = source_int_text[batch_size:]\n",
    "train_target = target_int_text[batch_size:]\n",
    "valid_source = source_int_text[:batch_size]\n",
    "valid_target = target_int_text[:batch_size]\n",
    "(valid_sources_batch, valid_targets_batch, valid_sources_lengths, valid_targets_lengths ) = next(get_batches(valid_source,\n",
    "                                                                                                             valid_target,\n",
    "                                                                                                             batch_size,\n",
    "                                                                                                             source_vocab_to_int['<PAD>'],\n",
    "                                                                                                             target_vocab_to_int['<PAD>']))                                                                                                  \n",
    "with tf.Session(graph=train_graph) as sess:\n",
    "    sess.run(tf.global_variables_initializer())\n",
    "\n",
    "    for epoch_i in range(epochs):\n",
    "        for batch_i, (source_batch, target_batch, sources_lengths, targets_lengths) in enumerate(\n",
    "                get_batches(train_source, train_target, batch_size,\n",
    "                            source_vocab_to_int['<PAD>'],\n",
    "                            target_vocab_to_int['<PAD>'])):\n",
    "\n",
    "            _, loss = sess.run(\n",
    "                [train_op, cost],\n",
    "                {input_data: source_batch,\n",
    "                 targets: target_batch,\n",
    "                 lr: learning_rate,\n",
    "                 target_sequence_length: targets_lengths,\n",
    "                 source_sequence_length: sources_lengths,\n",
    "                 keep_prob: keep_probability})\n",
    "\n",
    "\n",
    "            if batch_i % display_step == 0 and batch_i > 0:\n",
    "\n",
    "\n",
    "                batch_train_logits = sess.run(\n",
    "                    inference_logits,\n",
    "                    {input_data: source_batch,\n",
    "                     source_sequence_length: sources_lengths,\n",
    "                     target_sequence_length: targets_lengths,\n",
    "                     keep_prob: 1.0})\n",
    "\n",
    "\n",
    "                batch_valid_logits = sess.run(\n",
    "                    inference_logits,\n",
    "                    {input_data: valid_sources_batch,\n",
    "                     source_sequence_length: valid_sources_lengths,\n",
    "                     target_sequence_length: valid_targets_lengths,\n",
    "                     keep_prob: 1.0})\n",
    "\n",
    "                train_acc = get_accuracy(target_batch, batch_train_logits)\n",
    "\n",
    "                valid_acc = get_accuracy(valid_targets_batch, batch_valid_logits)\n",
    "\n",
    "                print('Epoch {:>3} Batch {:>4}/{} - Train Accuracy: {:>6.4f}, Validation Accuracy: {:>6.4f}, Loss: {:>6.4f}'\n",
    "                      .format(epoch_i, batch_i, len(source_int_text) // batch_size, train_acc, valid_acc, loss))\n",
    "\n",
    "    # Save Model\n",
    "    saver = tf.train.Saver()\n",
    "    saver.save(sess, save_path)\n",
    "    print('Model Trained and Saved')"
   ]
  },
  {
   "cell_type": "markdown",
   "metadata": {},
   "source": [
    "### Save Parameters\n",
    "Save the `batch_size` and `save_path` parameters for inference."
   ]
  },
  {
   "cell_type": "code",
   "execution_count": 18,
   "metadata": {},
   "outputs": [],
   "source": [
    "\"\"\"\n",
    "DON'T MODIFY ANYTHING IN THIS CELL\n",
    "\"\"\"\n",
    "# Save parameters for checkpoint\n",
    "helper.save_params(save_path)"
   ]
  },
  {
   "cell_type": "markdown",
   "metadata": {},
   "source": [
    "# Checkpoint"
   ]
  },
  {
   "cell_type": "code",
   "execution_count": 19,
   "metadata": {},
   "outputs": [],
   "source": [
    "\"\"\"\n",
    "DON'T MODIFY ANYTHING IN THIS CELL\n",
    "\"\"\"\n",
    "import tensorflow as tf\n",
    "import numpy as np\n",
    "import helper\n",
    "import problem_unittests as tests\n",
    "\n",
    "_, (source_vocab_to_int, target_vocab_to_int), (source_int_to_vocab, target_int_to_vocab) = helper.load_preprocess()\n",
    "load_path = helper.load_params()"
   ]
  },
  {
   "cell_type": "markdown",
   "metadata": {},
   "source": [
    "## Sentence to Sequence\n",
    "To feed a sentence into the model for translation, you first need to preprocess it.  Implement the function `sentence_to_seq()` to preprocess new sentences.\n",
    "\n",
    "- Convert the sentence to lowercase\n",
    "- Convert words into ids using `vocab_to_int`\n",
    " - Convert words not in the vocabulary, to the `<UNK>` word id."
   ]
  },
  {
   "cell_type": "code",
   "execution_count": 20,
   "metadata": {},
   "outputs": [
    {
     "name": "stdout",
     "output_type": "stream",
     "text": [
      "[3]\n",
      "[3, 6]\n",
      "[3, 6, 5]\n",
      "[3, 6, 5, 2]\n",
      "[3, 6, 5, 2, 4]\n",
      "Tests Passed\n"
     ]
    }
   ],
   "source": [
    "def sentence_to_seq(sentence, vocab_to_int):\n",
    "    \"\"\"\n",
    "    Convert a sentence to a sequence of ids\n",
    "    :param sentence: String\n",
    "    :param vocab_to_int: Dictionary to go from the words to an id\n",
    "    :return: List of word ids\n",
    "    \"\"\"\n",
    "    # TODO: Implement Function\n",
    "    sentence = sentence.lower()\n",
    "    words = []\n",
    "    for word in sentence.split():\n",
    "        try:\n",
    "            words.append(vocab_to_int[word])\n",
    "        except:\n",
    "            words.append(vocab_to_int['<UNK>'])\n",
    "        finally:\n",
    "            print(words)\n",
    "    \n",
    "    return words\n",
    "\n",
    "\n",
    "\"\"\"\n",
    "DON'T MODIFY ANYTHING IN THIS CELL THAT IS BELOW THIS LINE\n",
    "\"\"\"\n",
    "tests.test_sentence_to_seq(sentence_to_seq)"
   ]
  },
  {
   "cell_type": "markdown",
   "metadata": {},
   "source": [
    "## Translate\n",
    "This will translate `translate_sentence` from English to French."
   ]
  },
  {
   "cell_type": "code",
   "execution_count": 27,
   "metadata": {},
   "outputs": [
    {
     "name": "stdout",
     "output_type": "stream",
     "text": [
      "[216]\n",
      "[216, 211]\n",
      "[216, 211, 103]\n",
      "[216, 211, 103, 20]\n",
      "[216, 211, 103, 20, 7]\n",
      "[216, 211, 103, 20, 7, 135]\n",
      "[216, 211, 103, 20, 7, 135, 97]\n",
      "INFO:tensorflow:Restoring parameters from checkpoints/dev\n",
      "Input\n",
      "  Word Ids:      [216, 211, 103, 20, 7, 135, 97]\n",
      "  English Words: ['he', 'saw', 'a', 'old', 'yellow', 'truck', '.']\n",
      "\n",
      "Prediction\n",
      "  Word Ids:      [172, 295, 49, 296, 286, 222, 304, 1]\n",
      "  French Words: il conduit un vieux camion jaune . <EOS>\n"
     ]
    }
   ],
   "source": [
    "# translate_sentence = 'The weather is beautiful .'\n",
    "translate_sentence = 'he saw a old yellow truck .'\n",
    "\n",
    "\n",
    "\"\"\"\n",
    "DON'T MODIFY ANYTHING IN THIS CELL\n",
    "\"\"\"\n",
    "translate_sentence = sentence_to_seq(translate_sentence, source_vocab_to_int)\n",
    "\n",
    "loaded_graph = tf.Graph()\n",
    "with tf.Session(graph=loaded_graph) as sess:\n",
    "    # Load saved model\n",
    "    loader = tf.train.import_meta_graph(load_path + '.meta')\n",
    "    loader.restore(sess, load_path)\n",
    "\n",
    "    input_data = loaded_graph.get_tensor_by_name('input:0')\n",
    "    logits = loaded_graph.get_tensor_by_name('predictions:0')\n",
    "    target_sequence_length = loaded_graph.get_tensor_by_name('target_sequence_length:0')\n",
    "    source_sequence_length = loaded_graph.get_tensor_by_name('source_sequence_length:0')\n",
    "    keep_prob = loaded_graph.get_tensor_by_name('keep_prob:0')\n",
    "\n",
    "    translate_logits = sess.run(logits, {input_data: [translate_sentence]*batch_size,\n",
    "                                         target_sequence_length: [len(translate_sentence)*2]*batch_size,\n",
    "                                         source_sequence_length: [len(translate_sentence)]*batch_size,\n",
    "                                         keep_prob: 1.0})[0]\n",
    "\n",
    "print('Input')\n",
    "print('  Word Ids:      {}'.format([i for i in translate_sentence]))\n",
    "print('  English Words: {}'.format([source_int_to_vocab[i] for i in translate_sentence]))\n",
    "\n",
    "print('\\nPrediction')\n",
    "print('  Word Ids:      {}'.format([i for i in translate_logits]))\n",
    "print('  French Words: {}'.format(\" \".join([target_int_to_vocab[i] for i in translate_logits])))\n"
   ]
  },
  {
   "cell_type": "markdown",
   "metadata": {},
   "source": [
    "## Imperfect Translation\n",
    "You might notice that some sentences translate better than others.  Since the dataset you're using only has a vocabulary of 227 English words of the thousands that you use, you're only going to see good results using these words.  For this project, you don't need a perfect translation. However, if you want to create a better translation model, you'll need better data.\n",
    "\n",
    "You can train on the [WMT10 French-English corpus](http://www.statmt.org/wmt10/training-giga-fren.tar).  This dataset has more vocabulary and richer in topics discussed.  However, this will take you days to train, so make sure you've a GPU and the neural network is performing well on dataset we provided.  Just make sure you play with the WMT10 corpus after you've submitted this project.\n",
    "## Submitting This Project\n",
    "When submitting this project, make sure to run all the cells before saving the notebook. Save the notebook file as \"dlnd_language_translation.ipynb\" and save it as a HTML file under \"File\" -> \"Download as\". Include the \"helper.py\" and \"problem_unittests.py\" files in your submission."
   ]
  }
 ],
 "metadata": {
  "anaconda-cloud": {},
  "kernelspec": {
   "display_name": "Python 3",
   "language": "python",
   "name": "python3"
  },
  "language_info": {
   "codemirror_mode": {
    "name": "ipython",
    "version": 3
   },
   "file_extension": ".py",
   "mimetype": "text/x-python",
   "name": "python",
   "nbconvert_exporter": "python",
   "pygments_lexer": "ipython3",
   "version": "3.5.4"
  }
 },
 "nbformat": 4,
 "nbformat_minor": 1
}
